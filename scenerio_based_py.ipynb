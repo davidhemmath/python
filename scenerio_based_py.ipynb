{
 "cells": [
  {
   "cell_type": "code",
   "execution_count": 45,
   "id": "29a5f0e4-d1b5-4452-8fb6-fdabc31e9cf3",
   "metadata": {},
   "outputs": [
    {
     "name": "stdout",
     "output_type": "stream",
     "text": [
      "fail\n",
      "pass\n",
      "pass\n"
     ]
    }
   ],
   "source": [
    "l=[35,60,90]\n",
    "l1=[]\n",
    "\n",
    "for i in l:\n",
    "    if i<=40:\n",
    "        print(\"fail\")\n",
    "    elif i>=40:\n",
    "        print (\"pass\")\n"
   ]
  },
  {
   "cell_type": "code",
   "execution_count": 46,
   "id": "8ad4f943-1523-42e9-afe3-c06a313032f8",
   "metadata": {},
   "outputs": [
    {
     "ename": "TypeError",
     "evalue": "'builtin_function_or_method' object is not subscriptable",
     "output_type": "error",
     "traceback": [
      "\u001b[1;31m---------------------------------------------------------------------------\u001b[0m",
      "\u001b[1;31mTypeError\u001b[0m                                 Traceback (most recent call last)",
      "Cell \u001b[1;32mIn[46], line 4\u001b[0m\n\u001b[0;32m      1\u001b[0m l\u001b[38;5;241m=\u001b[39m[\u001b[38;5;241m35\u001b[39m,\u001b[38;5;241m60\u001b[39m,\u001b[38;5;241m90\u001b[39m]\n\u001b[0;32m      2\u001b[0m l1\u001b[38;5;241m=\u001b[39m[]\n\u001b[1;32m----> 4\u001b[0m \u001b[38;5;28;01mfor\u001b[39;00m i \u001b[38;5;129;01min\u001b[39;00m \u001b[38;5;28mrange\u001b[39m(\u001b[38;5;28mlen\u001b[39m[l]):\n\u001b[0;32m      5\u001b[0m     \u001b[38;5;28;01mif\u001b[39;00m i\u001b[38;5;241m<\u001b[39m\u001b[38;5;241m=\u001b[39m\u001b[38;5;241m40\u001b[39m:\n\u001b[0;32m      6\u001b[0m         \u001b[38;5;28mprint\u001b[39m(\u001b[38;5;124m\"\u001b[39m\u001b[38;5;124mfail\u001b[39m\u001b[38;5;124m\"\u001b[39m)\n",
      "\u001b[1;31mTypeError\u001b[0m: 'builtin_function_or_method' object is not subscriptable"
     ]
    }
   ],
   "source": [
    "l=[35,60,90]\n",
    "l1=[]\n",
    "\n",
    "for i in range(len[l]):\n",
    "    if i<=40:\n",
    "        print(\"fail\")\n",
    "    elif i>=40:\n",
    "        print (\"pass\")\n"
   ]
  },
  {
   "cell_type": "code",
   "execution_count": 12,
   "id": "6e6962f5-4286-46b8-abce-0ab0e1474be5",
   "metadata": {},
   "outputs": [
    {
     "name": "stdin",
     "output_type": "stream",
     "text": [
      "enter the name anu\n"
     ]
    },
    {
     "name": "stdout",
     "output_type": "stream",
     "text": [
      "number is: 34\n"
     ]
    }
   ],
   "source": [
    "d={\"anu\":34,\"raja\":55}\n",
    "\n",
    "def search():\n",
    "    a=input(\"enter the name\")\n",
    "    if a in d:\n",
    "        print(\"number is:\",d[a])\n",
    "    else :\n",
    "        print(\"no name found\")\n",
    "search ()\n",
    "       "
   ]
  },
  {
   "cell_type": "code",
   "execution_count": null,
   "id": "84b31f11-0d4a-4f80-8eff-1c88edaee3c3",
   "metadata": {},
   "outputs": [],
   "source": []
  },
  {
   "cell_type": "code",
   "execution_count": 30,
   "id": "5725281b-fc4e-44d7-9352-3a56866deb7b",
   "metadata": {},
   "outputs": [
    {
     "name": "stdout",
     "output_type": "stream",
     "text": [
      "d***d\n"
     ]
    }
   ],
   "source": [
    "#password masker\n",
    "\n",
    "p=\"david\"\n",
    "q=\"\"\n",
    "for i in range(len(p)):\n",
    "    if i==0 or i==len(p)-1:\n",
    "        q=q+p[i]\n",
    "    else:\n",
    "        q=q+\"*\"\n",
    "print(q)"
   ]
  },
  {
   "cell_type": "code",
   "execution_count": 39,
   "id": "cb96f99e-80c4-4c4f-bfa5-30aa046eff9b",
   "metadata": {},
   "outputs": [
    {
     "name": "stdout",
     "output_type": "stream",
     "text": [
      "[0]\n"
     ]
    }
   ],
   "source": [
    "#common values\n",
    "l1=[0,1,2]\n",
    "l2=[0,6,7]\n",
    "l3=[]\n",
    "for i in l1:\n",
    "    for j in l2:\n",
    "        if i==j:\n",
    "            l3.append(i)\n",
    "print(l3)\n",
    "    "
   ]
  },
  {
   "cell_type": "code",
   "execution_count": 50,
   "id": "b51ae773-b061-4de2-8bd2-1df7abb57766",
   "metadata": {},
   "outputs": [
    {
     "name": "stdout",
     "output_type": "stream",
     "text": [
      "[1, 2, 3, 4]\n"
     ]
    }
   ],
   "source": [
    "#flatteninng list\n",
    "\n",
    "l=[[1,2],[3,4]]\n",
    "d=[]\n",
    "\n",
    "for j in l:\n",
    "    for i in j:\n",
    "        d+=[i]\n",
    "print (d)"
   ]
  },
  {
   "cell_type": "code",
   "execution_count": 53,
   "id": "efdcd83d-e473-4a8a-94f9-877addcafdd4",
   "metadata": {},
   "outputs": [
    {
     "ename": "SyntaxError",
     "evalue": "invalid syntax (1484654914.py, line 3)",
     "output_type": "error",
     "traceback": [
      "\u001b[1;36m  Cell \u001b[1;32mIn[53], line 3\u001b[1;36m\u001b[0m\n\u001b[1;33m    words[]\u001b[0m\n\u001b[1;37m          ^\u001b[0m\n\u001b[1;31mSyntaxError\u001b[0m\u001b[1;31m:\u001b[0m invalid syntax\n"
     ]
    }
   ],
   "source": [
    "a=\"hi hello\"\n",
    "word=\"\"\n",
    "words[]\n",
    "cur=\"\"\n",
    "\n",
    "for ch in a:\n",
    "    if ch=\" \":\n",
    "        words+=[cur]\n",
    "        cur=\"\"\n",
    "    else:\n",
    "        cur+=ch\n",
    "words+=[current]\n",
    "\n",
    "m\n",
    "    \n"
   ]
  },
  {
   "cell_type": "code",
   "execution_count": null,
   "id": "66fa9610-0c2a-4126-b60a-0eb2927fa917",
   "metadata": {},
   "outputs": [],
   "source": []
  }
 ],
 "metadata": {
  "kernelspec": {
   "display_name": "Python [conda env:base] *",
   "language": "python",
   "name": "conda-base-py"
  },
  "language_info": {
   "codemirror_mode": {
    "name": "ipython",
    "version": 3
   },
   "file_extension": ".py",
   "mimetype": "text/x-python",
   "name": "python",
   "nbconvert_exporter": "python",
   "pygments_lexer": "ipython3",
   "version": "3.13.5"
  }
 },
 "nbformat": 4,
 "nbformat_minor": 5
}
