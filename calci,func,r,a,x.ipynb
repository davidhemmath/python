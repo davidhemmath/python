{
 "cells": [
  {
   "cell_type": "code",
   "execution_count": 1,
   "id": "84448081-33cb-4fb2-a091-f0829c2afc5c",
   "metadata": {},
   "outputs": [
    {
     "name": "stdout",
     "output_type": "stream",
     "text": [
      "[1]\n",
      "[1]\n",
      "[1, 2]\n",
      "[1, 2]\n",
      "[1, 2, 3]\n"
     ]
    }
   ],
   "source": [
    "k=[1,1,2,2,3]\n",
    "d=[]\n",
    "\n",
    "for i in k:\n",
    "    if i not in d:\n",
    "        d.append(i)\n",
    "    print(d)"
   ]
  },
  {
   "cell_type": "code",
   "execution_count": 29,
   "id": "2a971e5e-1e20-44d0-9227-1d1063d6b06c",
   "metadata": {},
   "outputs": [
    {
     "name": "stdout",
     "output_type": "stream",
     "text": [
      "True\n"
     ]
    },
    {
     "data": {
      "text/plain": [
       "' return functionn helps  to show the result and can pesrform tasks with that where we canot do like tht with print func\\nGOLBAL key\\ndefined befor or insuide the function global a,b where it only keeps the answer as variable'"
      ]
     },
     "execution_count": 29,
     "metadata": {},
     "output_type": "execute_result"
    }
   ],
   "source": [
    "\n",
    "\n",
    "def Pal(a):\n",
    "    for i in range(0,len(a)//2):\n",
    "        if a[i]!=a[len(a)-1-i]:\n",
    "         return False\n",
    "\n",
    "    return True\n",
    "\n",
    "a=Pal(\"madam\")\n",
    "print(a)\n",
    "\n",
    "\n",
    "\n",
    "''' return functionn helps  to show the result and can pesrform tasks with that where we canot do like tht with print func\n",
    "GOLBAL key\n",
    "defined befor or insuide the function global a,b where it only keeps the answer as variable'''\n",
    "\n"
   ]
  },
  {
   "cell_type": "code",
   "execution_count": 20,
   "id": "dc4808d7-41d6-49b1-aa7c-98c1412c9d88",
   "metadata": {},
   "outputs": [
    {
     "name": "stdout",
     "output_type": "stream",
     "text": [
      "6\n",
      "1\n",
      "6\n"
     ]
    }
   ],
   "source": [
    "def add(a,b):\n",
    "    c=a+b\n",
    "    return c\n",
    "\n",
    "def sub(b,c):\n",
    "    v=b-c\n",
    "    return v\n",
    "\n",
    "k=add(2, 4)\n",
    "l=sub(2,1)\n",
    "print(k)\n",
    "print(l)\n",
    "print(k*l)"
   ]
  },
  {
   "cell_type": "code",
   "execution_count": 23,
   "id": "582bdaab-09ea-4499-ac6d-5343c48705b9",
   "metadata": {},
   "outputs": [
    {
     "name": "stdout",
     "output_type": "stream",
     "text": [
      "division by zero\n"
     ]
    }
   ],
   "source": [
    "'''try and except\n",
    "name value type are the three errors comonly\n",
    "we canalso mention the errror\n",
    "--we can also get the error handling by not giving the exact error by \n",
    "\n",
    "except exception as e :\n",
    "\n",
    "'''\n",
    "\n",
    "try:\n",
    "    a=1\n",
    "    b=0\n",
    "    print(a/b)\n",
    "\n",
    "except Exception as e:\n",
    "    print (e)\n",
    "\n",
    "\n",
    "\n",
    "\n"
   ]
  },
  {
   "cell_type": "code",
   "execution_count": 25,
   "id": "7fa6cfa7-9b88-4745-a5de-73570ae85346",
   "metadata": {},
   "outputs": [
    {
     "name": "stdout",
     "output_type": "stream",
     "text": [
      "0divi\n"
     ]
    }
   ],
   "source": [
    "try:\n",
    "    a=1\n",
    "    b=0\n",
    "    print(a/b)\n",
    "\n",
    "except NameError:\n",
    "    print(\"daiiii thambe name\")\n",
    "\n",
    "except ZeroDivisionError:\n",
    "    print(\"0divi\")\n"
   ]
  },
  {
   "cell_type": "code",
   "execution_count": 38,
   "id": "e26399f7-56d2-4de5-b010-30ba8eadc42b",
   "metadata": {},
   "outputs": [
    {
     "name": "stdin",
     "output_type": "stream",
     "text": [
      "enter the first val:   4\n",
      "enter the second val:   5\n",
      "task +,-,/,* +\n"
     ]
    },
    {
     "name": "stdout",
     "output_type": "stream",
     "text": [
      "9\n"
     ]
    }
   ],
   "source": [
    "\n",
    "def add(a,b):\n",
    "    c=a+b\n",
    "    return c\n",
    "\n",
    "\n",
    "def sub(a,b):\n",
    "    c=a-b\n",
    "    return c\n",
    "\n",
    "\n",
    "\n",
    "def mul(a,b):\n",
    "    c=a*b\n",
    "    \n",
    "    return c\n",
    "\n",
    "\n",
    "\n",
    "def div(a,b):\n",
    "    c=a/b\n",
    "    return c\n",
    "\n",
    "k=int(input(\"enter the first val:  \"))\n",
    "\n",
    "j=int(input(\"enter the second val:  \"))\n",
    "\n",
    "task=input(\"task +,-,/,*\")\n",
    "if task==\"+\":\n",
    "    print(add(k,j))\n",
    "\n",
    "elif task==\"-\":\n",
    "    print(sub(k,j))\n",
    "    \n",
    "\n",
    "elif task==\"*\":\n",
    "    print(mul(k,j))\n",
    "\n",
    "\n",
    "elif task==\"/\":\n",
    "    print(div(k,j))\n",
    "\n",
    "else:\n",
    "    print(\"invalid\")\n",
    "\n",
    "\n",
    "\n",
    "\n",
    "\n",
    "\n",
    "\n",
    "\n",
    "\n",
    "\n"
   ]
  },
  {
   "cell_type": "code",
   "execution_count": null,
   "id": "ea571901-61d3-4745-9ff9-75e280d83000",
   "metadata": {},
   "outputs": [],
   "source": [
    "''' hw stone papper scissor \n",
    "\n",
    "\n",
    "filee handling\n",
    "\n",
    "read r, append a, write w, create x"
   ]
  },
  {
   "cell_type": "code",
   "execution_count": 10,
   "id": "de3c3516-d5f0-45a7-b31e-90df8be7d242",
   "metadata": {},
   "outputs": [
    {
     "data": {
      "text/plain": [
       "11"
      ]
     },
     "execution_count": 10,
     "metadata": {},
     "output_type": "execute_result"
    }
   ],
   "source": [
    "\n",
    "f = open(\"C:/Users/david/OneDrive/python_david/class work/pycheck.txt\",\"a\")\n",
    "f.write(\"daii thambi\")\n",
    "\n",
    "\n",
    "\n",
    "\n",
    "\n",
    "\n",
    "\n",
    "\n"
   ]
  },
  {
   "cell_type": "code",
   "execution_count": 14,
   "id": "128cbd68-3f49-447f-8cd6-73898b43db05",
   "metadata": {},
   "outputs": [
    {
     "data": {
      "text/plain": [
       "'\\n\\nidentity opertor\\n   \\n \\t\\ttill 256 can be stoored inthe varianle above that the values are stored in differnt place\\n\\n\\n\\tmembership opertor\\n\\n\\n\\t\\tstring oda letter maathanum hoomework\\n\\n\\n\\tconcattinate of strings\\n\\n\\n\\tk.split()daii thambi'"
      ]
     },
     "execution_count": 14,
     "metadata": {},
     "output_type": "execute_result"
    }
   ],
   "source": [
    "\n",
    "f = open(\"C:/Users/david/OneDrive/python_david/class work/pycheck.txt\",\"r\")\n",
    "f.read()\n"
   ]
  },
  {
   "cell_type": "code",
   "execution_count": null,
   "id": "18f97646-f784-44c8-995c-0a2e262d87b1",
   "metadata": {},
   "outputs": [],
   "source": [
    "''' if we are splitting we shoul do with a new var because itll split by the words and other will do by spell\n",
    "\n",
    "--count, split, "
   ]
  },
  {
   "cell_type": "code",
   "execution_count": 20,
   "id": "60cc9ecc-54f1-4138-94da-93ed898dcb25",
   "metadata": {},
   "outputs": [
    {
     "ename": "TypeError",
     "evalue": "string indices must be integers, not 'str'",
     "output_type": "error",
     "traceback": [
      "\u001b[1;31m---------------------------------------------------------------------------\u001b[0m",
      "\u001b[1;31mTypeError\u001b[0m                                 Traceback (most recent call last)",
      "Cell \u001b[1;32mIn[20], line 5\u001b[0m\n\u001b[0;32m      2\u001b[0m k\u001b[38;5;241m=\u001b[39mf\u001b[38;5;241m.\u001b[39mread()\n\u001b[0;32m      4\u001b[0m \u001b[38;5;28;01mfor\u001b[39;00m i \u001b[38;5;129;01min\u001b[39;00m k:\n\u001b[1;32m----> 5\u001b[0m     k[i]\u001b[38;5;241m+\u001b[39m\u001b[38;5;241m=\u001b[39m\u001b[38;5;241m1\u001b[39m\n\u001b[0;32m      6\u001b[0m     \u001b[38;5;28mprint\u001b[39m(k)\n",
      "\u001b[1;31mTypeError\u001b[0m: string indices must be integers, not 'str'"
     ]
    }
   ],
   "source": [
    "\n",
    "f = open(\"C:/Users/david/OneDrive/python_david/class work/pycheck.txt\",\"r\")\n",
    "k=f.read()\n",
    "\n",
    "for i in k:\n",
    "    k[i]+=1\n",
    "    print(k)\n",
    "    \n"
   ]
  },
  {
   "cell_type": "code",
   "execution_count": null,
   "id": "295b94d3-b5b6-47e8-8653-4dd7a5cd1db5",
   "metadata": {},
   "outputs": [],
   "source": []
  },
  {
   "cell_type": "code",
   "execution_count": 21,
   "id": "582fedff-d9e8-4e60-aac4-888eabf8d70e",
   "metadata": {},
   "outputs": [
    {
     "ename": "ValueError",
     "evalue": "too many values to unpack (expected 2)",
     "output_type": "error",
     "traceback": [
      "\u001b[1;31m---------------------------------------------------------------------------\u001b[0m",
      "\u001b[1;31mValueError\u001b[0m                                Traceback (most recent call last)",
      "Cell \u001b[1;32mIn[21], line 4\u001b[0m\n\u001b[0;32m      1\u001b[0m l1\u001b[38;5;241m=\u001b[39m[\u001b[38;5;241m1\u001b[39m,\u001b[38;5;241m2\u001b[39m,\u001b[38;5;241m3\u001b[39m]\n\u001b[0;32m      2\u001b[0m l2\u001b[38;5;241m=\u001b[39m[\u001b[38;5;241m4\u001b[39m,\u001b[38;5;241m5\u001b[39m,\u001b[38;5;241m6\u001b[39m]\n\u001b[1;32m----> 4\u001b[0m \u001b[38;5;28;01mfor\u001b[39;00m i,j \u001b[38;5;129;01min\u001b[39;00m l1,l2:\n\u001b[0;32m      5\u001b[0m     \u001b[38;5;28mprint\u001b[39m(l1\u001b[38;5;241m+\u001b[39ml2)\n",
      "\u001b[1;31mValueError\u001b[0m: too many values to unpack (expected 2)"
     ]
    }
   ],
   "source": [
    "\n",
    "l1=[1,2,3]\n",
    "l2=[4,5,6]\n",
    "\n",
    "for i,j in l1,l2:\n",
    "    \n",
    "\n",
    "\n",
    "\n",
    "\n",
    "\n",
    "\n",
    "\n",
    "\n"
   ]
  },
  {
   "cell_type": "code",
   "execution_count": null,
   "id": "751e3c7b-235a-425d-8a80-0d1996bb2b5a",
   "metadata": {},
   "outputs": [],
   "source": []
  },
  {
   "cell_type": "code",
   "execution_count": null,
   "id": "9b3c103c-6770-468e-9c40-975c814fe89c",
   "metadata": {},
   "outputs": [],
   "source": []
  }
 ],
 "metadata": {
  "kernelspec": {
   "display_name": "Python [conda env:base] *",
   "language": "python",
   "name": "conda-base-py"
  },
  "language_info": {
   "codemirror_mode": {
    "name": "ipython",
    "version": 3
   },
   "file_extension": ".py",
   "mimetype": "text/x-python",
   "name": "python",
   "nbconvert_exporter": "python",
   "pygments_lexer": "ipython3",
   "version": "3.13.5"
  }
 },
 "nbformat": 4,
 "nbformat_minor": 5
}
