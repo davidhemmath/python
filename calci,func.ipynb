{
 "cells": [
  {
   "cell_type": "code",
   "execution_count": null,
   "id": "84448081-33cb-4fb2-a091-f0829c2afc5c",
   "metadata": {},
   "outputs": [],
   "source": []
  },
  {
   "cell_type": "code",
   "execution_count": 29,
   "id": "2a971e5e-1e20-44d0-9227-1d1063d6b06c",
   "metadata": {},
   "outputs": [
    {
     "name": "stdout",
     "output_type": "stream",
     "text": [
      "True\n"
     ]
    },
    {
     "data": {
      "text/plain": [
       "' return functionn helps  to show the result and can pesrform tasks with that where we canot do like tht with print func\\nGOLBAL key\\ndefined befor or insuide the function global a,b where it only keeps the answer as variable'"
      ]
     },
     "execution_count": 29,
     "metadata": {},
     "output_type": "execute_result"
    }
   ],
   "source": [
    "\n",
    "\n",
    "def Pal(a):\n",
    "    for i in range(0,len(a)//2):\n",
    "        if a[i]!=a[len(a)-1-i]:\n",
    "         return False\n",
    "\n",
    "    return True\n",
    "\n",
    "a=Pal(\"madam\")\n",
    "print(a)\n",
    "\n",
    "\n",
    "\n",
    "''' return functionn helps  to show the result and can pesrform tasks with that where we canot do like tht with print func\n",
    "GOLBAL key\n",
    "defined befor or insuide the function global a,b where it only keeps the answer as variable'''\n",
    "\n"
   ]
  },
  {
   "cell_type": "code",
   "execution_count": 20,
   "id": "dc4808d7-41d6-49b1-aa7c-98c1412c9d88",
   "metadata": {},
   "outputs": [
    {
     "name": "stdout",
     "output_type": "stream",
     "text": [
      "6\n",
      "1\n",
      "6\n"
     ]
    }
   ],
   "source": [
    "def add(a,b):\n",
    "    c=a+b\n",
    "    return c\n",
    "\n",
    "def sub(b,c):\n",
    "    v=b-c\n",
    "    return v\n",
    "\n",
    "k=add(2, 4)\n",
    "l=sub(2,1)\n",
    "print(k)\n",
    "print(l)\n",
    "print(k*l)"
   ]
  },
  {
   "cell_type": "code",
   "execution_count": 23,
   "id": "582bdaab-09ea-4499-ac6d-5343c48705b9",
   "metadata": {},
   "outputs": [
    {
     "name": "stdout",
     "output_type": "stream",
     "text": [
      "division by zero\n"
     ]
    }
   ],
   "source": [
    "'''try and except\n",
    "name value type are the three errors comonly\n",
    "we canalso mention the errror\n",
    "--we can also get the error handling by not giving the exact error by \n",
    "\n",
    "except exception as e :\n",
    "\n",
    "'''\n",
    "\n",
    "try:\n",
    "    a=1\n",
    "    b=0\n",
    "    print(a/b)\n",
    "\n",
    "except Exception as e:\n",
    "    print (e)\n",
    "\n",
    "\n",
    "\n",
    "\n"
   ]
  },
  {
   "cell_type": "code",
   "execution_count": 25,
   "id": "7fa6cfa7-9b88-4745-a5de-73570ae85346",
   "metadata": {},
   "outputs": [
    {
     "name": "stdout",
     "output_type": "stream",
     "text": [
      "0divi\n"
     ]
    }
   ],
   "source": [
    "try:\n",
    "    a=1\n",
    "    b=0\n",
    "    print(a/b)\n",
    "\n",
    "except NameError:\n",
    "    print(\"daiiii thambe name\")\n",
    "\n",
    "except ZeroDivisionError:\n",
    "    print(\"0divi\")\n"
   ]
  },
  {
   "cell_type": "code",
   "execution_count": 38,
   "id": "e26399f7-56d2-4de5-b010-30ba8eadc42b",
   "metadata": {},
   "outputs": [
    {
     "name": "stdin",
     "output_type": "stream",
     "text": [
      "enter the first val:   4\n",
      "enter the second val:   5\n",
      "task +,-,/,* +\n"
     ]
    },
    {
     "name": "stdout",
     "output_type": "stream",
     "text": [
      "9\n"
     ]
    }
   ],
   "source": [
    "\n",
    "def add(a,b):\n",
    "    c=a+b\n",
    "    return c\n",
    "\n",
    "\n",
    "def sub(a,b):\n",
    "    c=a-b\n",
    "    return c\n",
    "\n",
    "\n",
    "\n",
    "def mul(a,b):\n",
    "    c=a*b\n",
    "    \n",
    "    return c\n",
    "\n",
    "\n",
    "\n",
    "def div(a,b):\n",
    "    c=a/b\n",
    "    return c\n",
    "\n",
    "k=int(input(\"enter the first val:  \"))\n",
    "\n",
    "j=int(input(\"enter the second val:  \"))\n",
    "\n",
    "task=input(\"task +,-,/,*\")\n",
    "if task==\"+\":\n",
    "    print(add(k,j))\n",
    "\n",
    "elif task==\"-\":\n",
    "    print(sub(k,j))\n",
    "    \n",
    "\n",
    "elif task==\"*\":\n",
    "    print(mul(k,j))\n",
    "\n",
    "\n",
    "elif task==\"/\":\n",
    "    print(div(k,j))\n",
    "\n",
    "else:\n",
    "    print(\"invalid\")\n",
    "\n",
    "\n",
    "\n",
    "\n",
    "\n",
    "\n",
    "\n",
    "\n",
    "\n",
    "\n"
   ]
  },
  {
   "cell_type": "code",
   "execution_count": null,
   "id": "ea571901-61d3-4745-9ff9-75e280d83000",
   "metadata": {},
   "outputs": [],
   "source": []
  }
 ],
 "metadata": {
  "kernelspec": {
   "display_name": "Python [conda env:base] *",
   "language": "python",
   "name": "conda-base-py"
  },
  "language_info": {
   "codemirror_mode": {
    "name": "ipython",
    "version": 3
   },
   "file_extension": ".py",
   "mimetype": "text/x-python",
   "name": "python",
   "nbconvert_exporter": "python",
   "pygments_lexer": "ipython3",
   "version": "3.13.5"
  }
 },
 "nbformat": 4,
 "nbformat_minor": 5
}
