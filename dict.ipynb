{
 "cells": [
  {
   "cell_type": "code",
   "execution_count": 7,
   "id": "6b40bbc5-01f7-4a26-bb25-c101220466af",
   "metadata": {},
   "outputs": [],
   "source": [
    "#dictionaries"
   ]
  },
  {
   "cell_type": "code",
   "execution_count": 6,
   "id": "a8561e24-d5b2-4629-b4e5-9a811092fe63",
   "metadata": {},
   "outputs": [
    {
     "name": "stdout",
     "output_type": "stream",
     "text": [
      "('g', 33)\n",
      "{'a': 30, 'b': 40}\n"
     ]
    }
   ],
   "source": [
    "k = {\"a\": 30, \"b\": 40, \"g\": 33}\n",
    "l = k.popitem()\n",
    "print(l)        # Output: ('g', 33)\n",
    "print(k)        # Output: {'a': 30, 'b': 40}\n"
   ]
  },
  {
   "cell_type": "code",
   "execution_count": 9,
   "id": "bed8dc3d-3c78-4ad4-be45-7833b55b960e",
   "metadata": {},
   "outputs": [
    {
     "name": "stdout",
     "output_type": "stream",
     "text": [
      "{'b': 40, 'g': 33}\n"
     ]
    }
   ],
   "source": [
    "k = {\"a\": 30, \"b\": 40, \"g\": 33}\n",
    "k.pop(\"a\")\n",
    "print (k)"
   ]
  },
  {
   "cell_type": "code",
   "execution_count": null,
   "id": "9490faa9-5b43-46fb-b7f5-820c8b319ceb",
   "metadata": {},
   "outputs": [],
   "source": []
  }
 ],
 "metadata": {
  "kernelspec": {
   "display_name": "Python [conda env:base] *",
   "language": "python",
   "name": "conda-base-py"
  },
  "language_info": {
   "codemirror_mode": {
    "name": "ipython",
    "version": 3
   },
   "file_extension": ".py",
   "mimetype": "text/x-python",
   "name": "python",
   "nbconvert_exporter": "python",
   "pygments_lexer": "ipython3",
   "version": "3.13.5"
  }
 },
 "nbformat": 4,
 "nbformat_minor": 5
}
