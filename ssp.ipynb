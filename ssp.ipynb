{
 "cells": [
  {
   "cell_type": "code",
   "execution_count": 2,
   "id": "ab5325b6-77ed-4806-bc78-a64cd3598173",
   "metadata": {},
   "outputs": [
    {
     "name": "stdin",
     "output_type": "stream",
     "text": [
      "stone or sci or pap pap\n",
      "st or sci or pap sci\n"
     ]
    },
    {
     "name": "stdout",
     "output_type": "stream",
     "text": [
      "pap sci p2 dhaan win\n"
     ]
    }
   ],
   "source": [
    "#home work\n",
    "\n",
    "p1=input(\"stone or sci or pap\")\n",
    "p2=input(\"st or sci or pap\")\n",
    "\n",
    "    \n",
    "\n",
    "if p1==\"stone\" and p2==\"sci\" :\n",
    "    print(p1,p2,\"p1 dhaan winner\")\n",
    "elif p1==\"sci\" and p2==\"stone\":\n",
    "    print(p1,p2,\"p2 dhaan winu\")\n",
    "elif p1==\"stone\" and p2==\"pap\":\n",
    "    print(p1,p2,\"p2 dhaan win\")\n",
    "elif p1==\"sci\" and p2==\"pap\":\n",
    "    print(p1,p2,\"p1 dhaan winnu\")\n",
    "elif p1 == \"pap\" and p2 == \"stone\":\n",
    "    print(p1, p2, \"p1 dhaan winner\")\n",
    "elif p1 == \"pap\" and p2 == \"sci\":\n",
    "    print(p1, p2, \"p2 dhaan win\")\n",
    "\n",
    "    \n",
    "else:\n",
    "        print(\"match draw\")"
   ]
  },
  {
   "cell_type": "code",
   "execution_count": 6,
   "id": "89679047-330f-4800-a160-9ff4e02cbbe3",
   "metadata": {},
   "outputs": [
    {
     "ename": "TypeError",
     "evalue": "add() takes 0 positional arguments but 2 were given",
     "output_type": "error",
     "traceback": [
      "\u001b[1;31m---------------------------------------------------------------------------\u001b[0m",
      "\u001b[1;31mTypeError\u001b[0m                                 Traceback (most recent call last)",
      "Cell \u001b[1;32mIn[6], line 7\u001b[0m\n\u001b[0;32m      4\u001b[0m     a\u001b[38;5;241m=\u001b[39muser\u001b[38;5;241m.\u001b[39mupdate()\n\u001b[0;32m      5\u001b[0m     \u001b[38;5;28;01mreturn\u001b[39;00m user\n\u001b[1;32m----> 7\u001b[0m \u001b[38;5;28mprint\u001b[39m(add(\u001b[38;5;124m\"\u001b[39m\u001b[38;5;124mdept\u001b[39m\u001b[38;5;124m\"\u001b[39m,\u001b[38;5;124m\"\u001b[39m\u001b[38;5;124mbsc\u001b[39m\u001b[38;5;124m\"\u001b[39m))\n\u001b[0;32m      8\u001b[0m \u001b[38;5;28mprint\u001b[39m(user)\n",
      "\u001b[1;31mTypeError\u001b[0m: add() takes 0 positional arguments but 2 were given"
     ]
    }
   ],
   "source": [
    "'''user={\"name\":\"david\",\"age\":18,\"loc\":\"ch\"}\n",
    "\n",
    "def add():\n",
    "    a=user.update()\n",
    "    return user\n",
    "\n",
    "print(add(\"dept\",\"bsc\"))\n",
    "print(user)\n",
    "'''\n"
   ]
  },
  {
   "cell_type": "code",
   "execution_count": 11,
   "id": "d7882d34-f8c5-4301-866c-7fa80cd7d17f",
   "metadata": {},
   "outputs": [
    {
     "name": "stdout",
     "output_type": "stream",
     "text": [
      "no\n",
      "yes\n",
      "no\n",
      "no\n",
      "no\n",
      "no\n"
     ]
    },
    {
     "ename": "IndexError",
     "evalue": "string index out of range",
     "output_type": "error",
     "traceback": [
      "\u001b[1;31m---------------------------------------------------------------------------\u001b[0m",
      "\u001b[1;31mIndexError\u001b[0m                                Traceback (most recent call last)",
      "Cell \u001b[1;32mIn[11], line 8\u001b[0m\n\u001b[0;32m      6\u001b[0m \u001b[38;5;28;01mif\u001b[39;00m \u001b[38;5;28mlen\u001b[39m(a)\u001b[38;5;241m==\u001b[39m \u001b[38;5;28mlen\u001b[39m(b):\n\u001b[0;32m      7\u001b[0m     \u001b[38;5;28;01mfor\u001b[39;00m i \u001b[38;5;129;01min\u001b[39;00m \u001b[38;5;28mrange\u001b[39m(\u001b[38;5;241m0\u001b[39m,\u001b[38;5;241m7\u001b[39m):\n\u001b[1;32m----> 8\u001b[0m         \u001b[38;5;28;01mif\u001b[39;00m a[i]\u001b[38;5;241m==\u001b[39mb[i]:\n\u001b[0;32m      9\u001b[0m             \u001b[38;5;28mprint\u001b[39m(\u001b[38;5;124m\"\u001b[39m\u001b[38;5;124myes\u001b[39m\u001b[38;5;124m\"\u001b[39m)\n\u001b[0;32m     10\u001b[0m         \u001b[38;5;28;01melse\u001b[39;00m :\n",
      "\u001b[1;31mIndexError\u001b[0m: string index out of range"
     ]
    }
   ],
   "source": [
    "#anagram\n",
    "'''\n",
    "a=\"silent\"\n",
    "b=\"listen\"\n",
    "\n",
    "if len(a)== len(b):\n",
    "    for i in range(0,7):\n",
    "        if a[i]==b[i]:\n",
    "            print(\"yes\")\n",
    "        else :\n",
    "            print(\"no\")'''"
   ]
  },
  {
   "cell_type": "code",
   "execution_count": null,
   "id": "652f9ef2-67bc-433b-a15f-2fe544cdce94",
   "metadata": {},
   "outputs": [],
   "source": []
  }
 ],
 "metadata": {
  "kernelspec": {
   "display_name": "Python [conda env:base] *",
   "language": "python",
   "name": "conda-base-py"
  },
  "language_info": {
   "codemirror_mode": {
    "name": "ipython",
    "version": 3
   },
   "file_extension": ".py",
   "mimetype": "text/x-python",
   "name": "python",
   "nbconvert_exporter": "python",
   "pygments_lexer": "ipython3",
   "version": "3.13.5"
  }
 },
 "nbformat": 4,
 "nbformat_minor": 5
}
