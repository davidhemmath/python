{
 "cells": [
  {
   "cell_type": "code",
   "execution_count": 3,
   "id": "1a5c2baf-04b6-4c75-98db-e2e3c6f2dca1",
   "metadata": {},
   "outputs": [
    {
     "name": "stdout",
     "output_type": "stream",
     "text": [
      "0\n",
      "2\n",
      "4\n",
      "6\n",
      "8\n",
      "10\n"
     ]
    }
   ],
   "source": [
    "#for loop\n",
    "\n",
    "for i in range(0,11,2):\n",
    "    print(i)"
   ]
  },
  {
   "cell_type": "code",
   "execution_count": 4,
   "id": "fc7027af-cad0-4110-b9a6-6cfc448e53d0",
   "metadata": {},
   "outputs": [
    {
     "name": "stdout",
     "output_type": "stream",
     "text": [
      "odd\n",
      "eve\n",
      "odd\n",
      "eve\n",
      "odd\n"
     ]
    }
   ],
   "source": [
    "# for loop in list.....  find odd or eve\n",
    "\n",
    "k=[1,2,3,4,5]\n",
    "for i in k:\n",
    "    if i%2!=0 :\n",
    "        print (\"odd\")\n",
    "    else :\n",
    "        print(\"eve\")"
   ]
  },
  {
   "cell_type": "code",
   "execution_count": 8,
   "id": "bb7943e9-2c1f-43bd-9b29-08a6a9ef342b",
   "metadata": {},
   "outputs": [
    {
     "name": "stdout",
     "output_type": "stream",
     "text": [
      "maximum 5\n",
      "min 1\n"
     ]
    }
   ],
   "source": [
    "# max\n",
    "\n",
    "k=[1,2,3,4,5]\n",
    "print(\"maximum\", max(k))\n",
    "print(\"min\",min(k))"
   ]
  },
  {
   "cell_type": "code",
   "execution_count": 11,
   "id": "4e07c30a-97e6-4f17-8b62-e1e7c1ba976c",
   "metadata": {},
   "outputs": [
    {
     "name": "stdout",
     "output_type": "stream",
     "text": [
      "0 1\n",
      "1 2\n",
      "2 3\n",
      "3 4\n",
      "4 5\n"
     ]
    }
   ],
   "source": [
    "#enumerate \n",
    ".k=[1,2,3,4,5]\n",
    "for i,j in enumerate(k):\n",
    "    print(i,j)"
   ]
  },
  {
   "cell_type": "code",
   "execution_count": 9,
   "id": "05105a5b-f50e-4d1e-b504-20a7aca24f31",
   "metadata": {},
   "outputs": [
    {
     "name": "stdout",
     "output_type": "stream",
     "text": [
      "0\n",
      "1\n",
      "2\n",
      "3\n",
      "4\n",
      "5\n",
      "6\n"
     ]
    }
   ],
   "source": [
    "# while loop\n",
    "\n",
    "i=0\n",
    "while  i<=6:\n",
    "    print (i)\n",
    "    i+=1"
   ]
  },
  {
   "cell_type": "code",
   "execution_count": 12,
   "id": "be10febc-ab4f-4e2a-8c89-bae592824546",
   "metadata": {},
   "outputs": [
    {
     "name": "stdout",
     "output_type": "stream",
     "text": [
      "1\n",
      "2\n",
      "3\n",
      "4\n",
      "5\n"
     ]
    }
   ],
   "source": [
    "k=[1,2,3,4,5]\n",
    "c=0\n",
    "for i in k:\n",
    "    print (i)\n",
    "    c+=1\n",
    "    "
   ]
  },
  {
   "cell_type": "code",
   "execution_count": 19,
   "id": "97b3e717-d9f8-4275-ac76-8e1a10a26daf",
   "metadata": {},
   "outputs": [
    {
     "name": "stdout",
     "output_type": "stream",
     "text": [
      "smaller number is  1\n",
      "high is 90\n"
     ]
    }
   ],
   "source": [
    "number=[1,20,30,40,90,10]\n",
    "low=number[0]\n",
    "high=number[0]\n",
    "for num in number:\n",
    "    if num<low:\n",
    "        low=num\n",
    "print(\"smaller number is \",low)    \n",
    "\n",
    "for  num in number :\n",
    "    if num>high:\n",
    "        high=num\n",
    "print(\"high is\",high)\n",
    "\n",
    "\n",
    "\n",
    "    "
   ]
  },
  {
   "cell_type": "code",
   "execution_count": null,
   "id": "69ce6547-b10c-4d44-9c57-091cc70ee105",
   "metadata": {},
   "outputs": [],
   "source": []
  },
  {
   "cell_type": "code",
   "execution_count": null,
   "id": "1a606a3f-e5f1-4fc8-96ab-fc5f52b0969f",
   "metadata": {},
   "outputs": [],
   "source": []
  }
 ],
 "metadata": {
  "kernelspec": {
   "display_name": "Python [conda env:base] *",
   "language": "python",
   "name": "conda-base-py"
  },
  "language_info": {
   "codemirror_mode": {
    "name": "ipython",
    "version": 3
   },
   "file_extension": ".py",
   "mimetype": "text/x-python",
   "name": "python",
   "nbconvert_exporter": "python",
   "pygments_lexer": "ipython3",
   "version": "3.13.5"
  }
 },
 "nbformat": 4,
 "nbformat_minor": 5
}
