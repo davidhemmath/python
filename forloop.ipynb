{
 "cells": [
  {
   "cell_type": "code",
   "execution_count": 1,
   "id": "1a5c2baf-04b6-4c75-98db-e2e3c6f2dca1",
   "metadata": {},
   "outputs": [
    {
     "name": "stdout",
     "output_type": "stream",
     "text": [
      "0\n",
      "2\n",
      "4\n",
      "6\n",
      "8\n",
      "10\n"
     ]
    }
   ],
   "source": [
    "#for loop\n",
    "\n",
    "for i in range(0,11,2):\n",
    "    print(i)"
   ]
  },
  {
   "cell_type": "code",
   "execution_count": 4,
   "id": "fc7027af-cad0-4110-b9a6-6cfc448e53d0",
   "metadata": {},
   "outputs": [
    {
     "name": "stdout",
     "output_type": "stream",
     "text": [
      "odd\n",
      "eve\n",
      "odd\n",
      "eve\n",
      "odd\n"
     ]
    }
   ],
   "source": [
    "# for loop in list.....  find odd or eve\n",
    "\n",
    "k=[1,2,3,4,5]\n",
    "for i in k:\n",
    "    if i%2!=0 :\n",
    "        print (\"odd\")\n",
    "    else :\n",
    "        print(\"eve\")"
   ]
  },
  {
   "cell_type": "code",
   "execution_count": 8,
   "id": "bb7943e9-2c1f-43bd-9b29-08a6a9ef342b",
   "metadata": {},
   "outputs": [
    {
     "name": "stdout",
     "output_type": "stream",
     "text": [
      "maximum 5\n",
      "min 1\n"
     ]
    }
   ],
   "source": [
    "# max\n",
    "\n",
    "k=[1,2,3,4,5]\n",
    "print(\"maximum\", max(k))\n",
    "print(\"min\",min(k))"
   ]
  },
  {
   "cell_type": "code",
   "execution_count": 11,
   "id": "4e07c30a-97e6-4f17-8b62-e1e7c1ba976c",
   "metadata": {},
   "outputs": [
    {
     "name": "stdout",
     "output_type": "stream",
     "text": [
      "0 1\n",
      "1 2\n",
      "2 3\n",
      "3 4\n",
      "4 5\n"
     ]
    }
   ],
   "source": [
    "#enumerate \n",
    "k=[1,2,3,4,5]\n",
    "for i,j in enumerate(k):\n",
    "    print(i,j)"
   ]
  },
  {
   "cell_type": "code",
   "execution_count": 13,
   "id": "05105a5b-f50e-4d1e-b504-20a7aca24f31",
   "metadata": {},
   "outputs": [
    {
     "ename": "AttributeError",
     "evalue": "'list' object has no attribute 'union'",
     "output_type": "error",
     "traceback": [
      "\u001b[1;31m---------------------------------------------------------------------------\u001b[0m",
      "\u001b[1;31mAttributeError\u001b[0m                            Traceback (most recent call last)",
      "Cell \u001b[1;32mIn[13], line 5\u001b[0m\n\u001b[0;32m      2\u001b[0m k\u001b[38;5;241m=\u001b[39m[\u001b[38;5;241m1\u001b[39m,\u001b[38;5;241m2\u001b[39m,\u001b[38;5;241m3\u001b[39m,\u001b[38;5;241m4\u001b[39m,\u001b[38;5;241m5\u001b[39m]\n\u001b[0;32m      3\u001b[0m l\u001b[38;5;241m=\u001b[39m[\u001b[38;5;241m2\u001b[39m,\u001b[38;5;241m5\u001b[39m,\u001b[38;5;241m7\u001b[39m,\u001b[38;5;241m8\u001b[39m,\u001b[38;5;241m9\u001b[39m]\n\u001b[1;32m----> 5\u001b[0m \u001b[38;5;28mprint\u001b[39m(k\u001b[38;5;241m.\u001b[39munion(l))\n",
      "\u001b[1;31mAttributeError\u001b[0m: 'list' object has no attribute 'union'"
     ]
    }
   ],
   "source": [
    "#union\n",
    "k=[1,2,3,4,5]\n",
    "l=[2,5,7,8,9]\n",
    "\n",
    "print(k.union(l))"
   ]
  },
  {
   "cell_type": "code",
   "execution_count": null,
   "id": "be10febc-ab4f-4e2a-8c89-bae592824546",
   "metadata": {},
   "outputs": [],
   "source": []
  }
 ],
 "metadata": {
  "kernelspec": {
   "display_name": "Python [conda env:base] *",
   "language": "python",
   "name": "conda-base-py"
  },
  "language_info": {
   "codemirror_mode": {
    "name": "ipython",
    "version": 3
   },
   "file_extension": ".py",
   "mimetype": "text/x-python",
   "name": "python",
   "nbconvert_exporter": "python",
   "pygments_lexer": "ipython3",
   "version": "3.13.5"
  }
 },
 "nbformat": 4,
 "nbformat_minor": 5
}
