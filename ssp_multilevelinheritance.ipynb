{
 "cells": [
  {
   "cell_type": "code",
   "execution_count": 2,
   "id": "ab5325b6-77ed-4806-bc78-a64cd3598173",
   "metadata": {},
   "outputs": [
    {
     "name": "stdin",
     "output_type": "stream",
     "text": [
      "stone or sci or pap pap\n",
      "st or sci or pap sci\n"
     ]
    },
    {
     "name": "stdout",
     "output_type": "stream",
     "text": [
      "pap sci p2 dhaan win\n"
     ]
    }
   ],
   "source": [
    "#home work\n",
    "\n",
    "p1=input(\"stone or sci or pap\")\n",
    "p2=input(\"st or sci or pap\")\n",
    "\n",
    "    \n",
    "\n",
    "if p1==\"stone\" and p2==\"sci\" :\n",
    "    print(p1,p2,\"p1 dhaan winner\")\n",
    "elif p1==\"sci\" and p2==\"stone\":\n",
    "    print(p1,p2,\"p2 dhaan winu\")\n",
    "elif p1==\"stone\" and p2==\"pap\":\n",
    "    print(p1,p2,\"p2 dhaan win\")\n",
    "elif p1==\"sci\" and p2==\"pap\":\n",
    "    print(p1,p2,\"p1 dhaan winnu\")\n",
    "elif p1 == \"pap\" and p2 == \"stone\":\n",
    "    print(p1, p2, \"p1 dhaan winner\")\n",
    "elif p1 == \"pap\" and p2 == \"sci\":\n",
    "    print(p1, p2, \"p2 dhaan win\")\n",
    "\n",
    "    \n",
    "else:\n",
    "        print(\"match draw\")"
   ]
  },
  {
   "cell_type": "code",
   "execution_count": 6,
   "id": "89679047-330f-4800-a160-9ff4e02cbbe3",
   "metadata": {},
   "outputs": [
    {
     "ename": "TypeError",
     "evalue": "add() takes 0 positional arguments but 2 were given",
     "output_type": "error",
     "traceback": [
      "\u001b[1;31m---------------------------------------------------------------------------\u001b[0m",
      "\u001b[1;31mTypeError\u001b[0m                                 Traceback (most recent call last)",
      "Cell \u001b[1;32mIn[6], line 7\u001b[0m\n\u001b[0;32m      4\u001b[0m     a\u001b[38;5;241m=\u001b[39muser\u001b[38;5;241m.\u001b[39mupdate()\n\u001b[0;32m      5\u001b[0m     \u001b[38;5;28;01mreturn\u001b[39;00m user\n\u001b[1;32m----> 7\u001b[0m \u001b[38;5;28mprint\u001b[39m(add(\u001b[38;5;124m\"\u001b[39m\u001b[38;5;124mdept\u001b[39m\u001b[38;5;124m\"\u001b[39m,\u001b[38;5;124m\"\u001b[39m\u001b[38;5;124mbsc\u001b[39m\u001b[38;5;124m\"\u001b[39m))\n\u001b[0;32m      8\u001b[0m \u001b[38;5;28mprint\u001b[39m(user)\n",
      "\u001b[1;31mTypeError\u001b[0m: add() takes 0 positional arguments but 2 were given"
     ]
    }
   ],
   "source": [
    "'''user={\"name\":\"david\",\"age\":18,\"loc\":\"ch\"}\n",
    "\n",
    "def add():\n",
    "    a=user.update()\n",
    "    return user\n",
    "\n",
    "print(add(\"dept\",\"bsc\"))\n",
    "print(user)\n",
    "'''\n"
   ]
  },
  {
   "cell_type": "code",
   "execution_count": 11,
   "id": "d7882d34-f8c5-4301-866c-7fa80cd7d17f",
   "metadata": {},
   "outputs": [
    {
     "name": "stdout",
     "output_type": "stream",
     "text": [
      "no\n",
      "yes\n",
      "no\n",
      "no\n",
      "no\n",
      "no\n"
     ]
    },
    {
     "ename": "IndexError",
     "evalue": "string index out of range",
     "output_type": "error",
     "traceback": [
      "\u001b[1;31m---------------------------------------------------------------------------\u001b[0m",
      "\u001b[1;31mIndexError\u001b[0m                                Traceback (most recent call last)",
      "Cell \u001b[1;32mIn[11], line 8\u001b[0m\n\u001b[0;32m      6\u001b[0m \u001b[38;5;28;01mif\u001b[39;00m \u001b[38;5;28mlen\u001b[39m(a)\u001b[38;5;241m==\u001b[39m \u001b[38;5;28mlen\u001b[39m(b):\n\u001b[0;32m      7\u001b[0m     \u001b[38;5;28;01mfor\u001b[39;00m i \u001b[38;5;129;01min\u001b[39;00m \u001b[38;5;28mrange\u001b[39m(\u001b[38;5;241m0\u001b[39m,\u001b[38;5;241m7\u001b[39m):\n\u001b[1;32m----> 8\u001b[0m         \u001b[38;5;28;01mif\u001b[39;00m a[i]\u001b[38;5;241m==\u001b[39mb[i]:\n\u001b[0;32m      9\u001b[0m             \u001b[38;5;28mprint\u001b[39m(\u001b[38;5;124m\"\u001b[39m\u001b[38;5;124myes\u001b[39m\u001b[38;5;124m\"\u001b[39m)\n\u001b[0;32m     10\u001b[0m         \u001b[38;5;28;01melse\u001b[39;00m :\n",
      "\u001b[1;31mIndexError\u001b[0m: string index out of range"
     ]
    }
   ],
   "source": [
    "#anagram\n",
    "'''\n",
    "a=\"silent\"\n",
    "b=\"listen\"\n",
    "\n",
    "if len(a)== len(b):\n",
    "    for i in range(0,7):\n",
    "        if a[i]==b[i]:\n",
    "            print(\"yes\")\n",
    "        else :\n",
    "            print(\"no\")'''"
   ]
  },
  {
   "cell_type": "code",
   "execution_count": null,
   "id": "652f9ef2-67bc-433b-a15f-2fe544cdce94",
   "metadata": {},
   "outputs": [],
   "source": [
    "'''\n",
    "\n",
    "oops concept..... object oriented programmming\n",
    "\n",
    "\n",
    ".........inheritance\n",
    "\n",
    "--single\n",
    "....class parent:\n",
    "pass\n",
    "class child:\n",
    "obj1="
   ]
  },
  {
   "cell_type": "code",
   "execution_count": 10,
   "id": "7edb1af1-89be-459d-a928-6b7bb9a0dc41",
   "metadata": {},
   "outputs": [
    {
     "name": "stdout",
     "output_type": "stream",
     "text": [
      "im a student\n"
     ]
    }
   ],
   "source": [
    "#inheritance........\n",
    "\n",
    "class college:\n",
    "    def col(self):\n",
    "     print(\"im college\")\n",
    "\n",
    "\n",
    "class student(college):\n",
    "    def stu(self):\n",
    "     print(\"im a student\")\n",
    "\n",
    "\n",
    "s1=student()\n",
    "s1.stu()"
   ]
  },
  {
   "cell_type": "code",
   "execution_count": 31,
   "id": "d2e5b537-4726-462b-a191-8775b59a79f3",
   "metadata": {},
   "outputs": [
    {
     "name": "stdout",
     "output_type": "stream",
     "text": [
      "nope\n"
     ]
    }
   ],
   "source": [
    "\n",
    "def ana(a):\n",
    "    d={}\n",
    "    ind=0\n",
    "    for i in a:\n",
    "        d[ind]=i\n",
    "        ind+=1\n",
    "    return d\n",
    "a=\"silent\"\n",
    "b=\"listen\"\n",
    "if ana(a)==b:\n",
    "    print(\"yes\")\n",
    "else:\n",
    "    print(\"nope\")\n",
    "    \n",
    "\n",
    "\n",
    "        \n",
    "        #my try\n",
    "    \n",
    "        \n"
   ]
  },
  {
   "cell_type": "code",
   "execution_count": null,
   "id": "84ef5e78-e4ba-4b35-80e8-fd3112405b71",
   "metadata": {},
   "outputs": [],
   "source": [
    "\n",
    "''first to take the out of dict and by using the comparision betweem them'''"
   ]
  },
  {
   "cell_type": "code",
   "execution_count": 32,
   "id": "5673f186-c374-4645-9617-02d11f5a11ab",
   "metadata": {},
   "outputs": [
    {
     "name": "stdout",
     "output_type": "stream",
     "text": [
      "yes\n"
     ]
    }
   ],
   "source": [
    "def is_anagram(a, b):\n",
    "    if len(a) != len(b):\n",
    "        return False\n",
    "\n",
    "    count_a = {}\n",
    "    count_b = {}\n",
    "\n",
    "    for i in a:\n",
    "        if i in count_a:\n",
    "            count_a[i] += 1\n",
    "        else:\n",
    "            count_a[i] = 1\n",
    "\n",
    "    for i in b:\n",
    "        if i in count_b:\n",
    "            count_b[i] += 1\n",
    "        else:\n",
    "            count_b[i] = 1\n",
    "\n",
    "    return count_a == count_b\n",
    "\n",
    "a = \"silent\"\n",
    "b = \"listen\"\n",
    "\n",
    "if is_anagram(a, b):\n",
    "    print(\"yes\")\n",
    "else:\n",
    "    print(\"nope\")\n"
   ]
  },
  {
   "cell_type": "code",
   "execution_count": 14,
   "id": "79890757-fcd5-4a86-a7b1-79e979e98c94",
   "metadata": {},
   "outputs": [
    {
     "ename": "IndentationError",
     "evalue": "unexpected indent (3973183607.py, line 4)",
     "output_type": "error",
     "traceback": [
      "\u001b[1;36m  Cell \u001b[1;32mIn[14], line 4\u001b[1;36m\u001b[0m\n\u001b[1;33m    for i in a:\u001b[0m\n\u001b[1;37m    ^\u001b[0m\n\u001b[1;31mIndentationError\u001b[0m\u001b[1;31m:\u001b[0m unexpected indent\n"
     ]
    }
   ],
   "source": [
    "#remove duplicates\n",
    "a=[1,2,2,3]\n",
    "b=0\n",
    "    for i in a:\n",
    "        b[i]+=a\n",
    "    return b\n",
    "print(b)"
   ]
  },
  {
   "cell_type": "code",
   "execution_count": 50,
   "id": "9f7aff89-a8c9-4811-a947-cd5e7c246e43",
   "metadata": {},
   "outputs": [
    {
     "ename": "IndentationError",
     "evalue": "unexpected indent (146189539.py, line 6)",
     "output_type": "error",
     "traceback": [
      "\u001b[1;36m  Cell \u001b[1;32mIn[50], line 6\u001b[1;36m\u001b[0m\n\u001b[1;33m    print(\"A\")\u001b[0m\n\u001b[1;37m    ^\u001b[0m\n\u001b[1;31mIndentationError\u001b[0m\u001b[1;31m:\u001b[0m unexpected indent\n"
     ]
    }
   ],
   "source": [
    "s=[30,45,80]\n",
    "k=[]\n",
    "for i in range(len(s)):\n",
    "    if s[i]>=50:\n",
    "        k[i]+=1\n",
    "         print(\"A\")\n",
    "else:\n",
    " print(\"f\")"
   ]
  },
  {
   "cell_type": "code",
   "execution_count": 53,
   "id": "76c7f802-001f-4f7c-9ac3-84d627879e23",
   "metadata": {},
   "outputs": [
    {
     "name": "stdout",
     "output_type": "stream",
     "text": [
      "34\n"
     ]
    }
   ],
   "source": [
    "d={\"b\":39,\"a\":34}\n",
    "\n",
    "print(d[\"a\"])\n",
    "\n",
    "\n",
    "\n"
   ]
  },
  {
   "cell_type": "code",
   "execution_count": 56,
   "id": "008ea756-652b-497e-bc3e-51fb9d31d2ee",
   "metadata": {},
   "outputs": [
    {
     "ename": "IndentationError",
     "evalue": "unexpected indent (2011359604.py, line 6)",
     "output_type": "error",
     "traceback": [
      "\u001b[1;36m  Cell \u001b[1;32mIn[56], line 6\u001b[1;36m\u001b[0m\n\u001b[1;33m    print (s)\u001b[0m\n\u001b[1;37m    ^\u001b[0m\n\u001b[1;31mIndentationError\u001b[0m\u001b[1;31m:\u001b[0m unexpected indent\n"
     ]
    }
   ],
   "source": [
    "s=\"secret\"\n",
    "\n",
    "for i in range (0,1):\n",
    "    s[i]+=\"*\"\n",
    "    \n",
    "     print (s)"
   ]
  },
  {
   "cell_type": "code",
   "execution_count": 71,
   "id": "9137d11d-7258-41f0-9aa5-c1e941a84124",
   "metadata": {},
   "outputs": [
    {
     "name": "stdout",
     "output_type": "stream",
     "text": [
      "s****t\n"
     ]
    }
   ],
   "source": [
    "s=\"secret\"\n",
    "m=\"\"\n",
    "i=0\n",
    "for ch in s:\n",
    "    if i==0 or i==5:\n",
    "         m=m+ch\n",
    "    else:\n",
    "        m=m+\"*\"\n",
    "    i+=1\n",
    "print(m)"
   ]
  },
  {
   "cell_type": "code",
   "execution_count": 13,
   "id": "a8a26df3-eb61-4c77-aef6-8c985a24e415",
   "metadata": {},
   "outputs": [],
   "source": [
    "d={\"user1\":{\"name\":\"xyz\",\"age\":15,\"pass\":\"123\"}}\n",
    "\n",
    "def login():\n",
    "    a=input(\"enter name\")\n",
    "    b=input(\"enter pass\")\n",
    "    if a==(d[\"user1\"][\"name\"]) and b==(d[\"user1\"][\"pass\"]):\n",
    "            print (\"logged in\")\n",
    "    else:\n",
    "        print(\"not logged\")\n",
    "    \n",
    "    def insert():\n",
    "        user=input(\"enter user\")\n",
    "        c=input(\"ent key\")\n",
    "        e=input(\"ent val\")\n",
    "        if user in d:\n",
    "            d[user][c]=e\n",
    "            print(d)\n",
    "    \n",
    "    \n",
    "    def updated():\n",
    "        u1=input(\"enter upd key\")\n",
    "        u2=input(\"enter upd val\")\n",
    "    \n",
    "        if u1  in d[\"user1\"]:\n",
    "            d[\"user1\"][u1]=u2\n",
    "            print(d)\n",
    "    \n",
    "    \n",
    "    def delete():\n",
    "        d1=input(\"remove\")\n",
    "        if d1 in d[\"user1\"]:\n",
    "            d[\"user1\"].pop(d1)\n",
    "            print(d)\n",
    "    \n",
    "    login()\n",
    "    i=input(\"ent the operation\")\n",
    "    if i==\"insert\":\n",
    "        insert()\n",
    "    elif i==\"update\":\n",
    "        update()\n",
    "    elif i==\"delete\":\n",
    "        delete()\n",
    "    else:\n",
    "        print(\"invalid\")\n",
    "    \n",
    "    \n",
    "        "
   ]
  },
  {
   "cell_type": "code",
   "execution_count": 12,
   "id": "aeac9edc-b66b-4e23-98c0-98e8f4a044f6",
   "metadata": {},
   "outputs": [
    {
     "data": {
      "text/plain": [
       "[121, 2332]"
      ]
     },
     "execution_count": 12,
     "metadata": {},
     "output_type": "execute_result"
    }
   ],
   "source": [
    "#palinndrom  \n",
    "l=[121,2332,443]\n",
    "\n",
    "pal=[i for i in l if str(i)==str(i)[::-1]]\n",
    "pal"
   ]
  },
  {
   "cell_type": "code",
   "execution_count": null,
   "id": "a33cf41c-a9e4-4d1a-bc0c-66a399a2af8f",
   "metadata": {},
   "outputs": [],
   "source": [
    "''' should check the given num iispal uusing the %10\n",
    "\n",
    "lambda function...... argements: expression\n",
    "\n",
    "map filter in lambda\n",
    "'''"
   ]
  },
  {
   "cell_type": "code",
   "execution_count": null,
   "id": "3c228581-f8db-43b5-a5b3-70bc0bb61cb2",
   "metadata": {},
   "outputs": [],
   "source": [
    "k=[111]\n",
    "rev=0\n",
    "while k>0:\n",
    "    digit=k%10\n",
    "    rev=rev*10=digit\n",
    "    k//=10\n",
    "if k==rev:\n",
    "    print(\"pal\")"
   ]
  },
  {
   "cell_type": "code",
   "execution_count": null,
   "id": "42401445-0671-49f8-9020-c12f950b59ee",
   "metadata": {},
   "outputs": [],
   "source": [
    "'''quilbbot to change chat gpt as humanized \n",
    "\n",
    "'''"
   ]
  },
  {
   "cell_type": "code",
   "execution_count": null,
   "id": "a850f2bf-f1df-4f61-ae23-07402f4f8137",
   "metadata": {},
   "outputs": [],
   "source": [
    "''' Encapsulation\n",
    "\n",
    "used too protect\n",
    "\n",
    "--public,protected, private\n",
    "\n",
    "protect is denoted by _ thiscan be accesed like public but th underscore is only to giive an indication\n",
    "\n",
    "private cannot be accesed by anyone....  it is only accesed in nad it is denoted by \"__\" double underscore"
   ]
  },
  {
   "cell_type": "code",
   "execution_count": null,
   "id": "57d78b84-77c2-4c10-86f1-6539dc30ef4c",
   "metadata": {},
   "outputs": [],
   "source": [
    "class bank:\n",
    "    def __init__ (self,bal):\n",
    "        self.__bal = bal\n",
    "\n",
    "    def __init__(self):\n",
    "        print(f\"bal:{self.__bal}\")\n",
    "\n",
    "    def dep(self,amt):\n",
    "        if amt>0:\n",
    "            self"
   ]
  },
  {
   "cell_type": "code",
   "execution_count": null,
   "id": "9e0ff3b3-cd5e-4a80-a86c-f33824fc7865",
   "metadata": {},
   "outputs": [],
   "source": [
    "'''multilevel\n",
    "parent clas   ppp\n",
    "and in child \n",
    "should practice the inheritance \n",
    "\n",
    "polymorphism\n",
    "creatinf same functions with different classes\n",
    "\n",
    "should practice the obj\n",
    "\n",
    "'''"
   ]
  },
  {
   "cell_type": "code",
   "execution_count": 17,
   "id": "74d4799f-0a42-460d-9ae7-021e846a1809",
   "metadata": {},
   "outputs": [
    {
     "name": "stdout",
     "output_type": "stream",
     "text": [
      "16\n"
     ]
    }
   ],
   "source": [
    "x=lambda a,b:a+b\n",
    "print(x(10,6))"
   ]
  },
  {
   "cell_type": "code",
   "execution_count": 18,
   "id": "d11138de-bd34-4194-b22b-de784861184a",
   "metadata": {},
   "outputs": [
    {
     "name": "stdout",
     "output_type": "stream",
     "text": [
      "[1, 4, 9, 16]\n"
     ]
    }
   ],
   "source": [
    "l=[1,2,3,4]\n",
    "x=list(map(lambda x:x*x,l))\n",
    "print(x)"
   ]
  },
  {
   "cell_type": "code",
   "execution_count": 19,
   "id": "82a0637b-dedf-4fd2-a622-39ade273c6f0",
   "metadata": {},
   "outputs": [
    {
     "name": "stdout",
     "output_type": "stream",
     "text": [
      "[2, 4]\n"
     ]
    }
   ],
   "source": [
    "l=[1,2,3,4]\n",
    "x=list(filter(lambda x:x%2==0,l))\n",
    "print(x)"
   ]
  },
  {
   "cell_type": "code",
   "execution_count": 23,
   "id": "eea88312-29eb-490c-ba27-0616806a794d",
   "metadata": {},
   "outputs": [
    {
     "name": "stdout",
     "output_type": "stream",
     "text": [
      "dad name is : joe\n",
      "dad mob : 1234567\n",
      "dad pass : 123\n",
      "mom name is : lydia\n",
      "mom mob : 1234567\n",
      "mom pass : 455\n"
     ]
    }
   ],
   "source": [
    "# hw multilevel inheritance \n",
    "\n",
    "class dad:\n",
    "    def sdad(self):\n",
    "        self.name=\"joe\"    #public\n",
    "        self._mob=1234567    #protected\n",
    "        self.__password=123    #private\n",
    "        print(\"dad name is :\",self.name)\n",
    "        print(\"dad mob :\",self._mob)\n",
    "        print(\"dad pass :\",self.__password)\n",
    "class mom(dad):\n",
    "\n",
    "    def smom(self):\n",
    "        self.name=\"lydia\"    #public\n",
    "        self._mob=1234567    #protected\n",
    "        self.__password=455    #private\n",
    "        print(\"mom name is :\",self.name)\n",
    "        print(\"mom mob :\",self._mob)\n",
    "        print(\"mom pass :\",self.__password)\n",
    "\n",
    "class son(mom):\n",
    "    \n",
    "    def sson(self):\n",
    "        self.name=\"david\"    #public\n",
    "        self._mob=145734455    #protected\n",
    "        self.__password=456   #private\n",
    "        print(\"son name is :\",self.name)\n",
    "        print(\"son mob :\",self._mob)\n",
    "        print(\"son pass :\",self.__password)\n",
    "s=son()\n",
    "\n",
    "s.sdad()\n",
    "s.smom()\n",
    "\n",
    "        \n",
    "    "
   ]
  },
  {
   "cell_type": "code",
   "execution_count": 24,
   "id": "2948bcb3-1546-483b-8bb8-bc2f28890950",
   "metadata": {},
   "outputs": [
    {
     "name": "stderr",
     "output_type": "stream",
     "text": [
      "<>:6: SyntaxWarning: \"is\" with 'str' literal. Did you mean \"==\"?\n",
      "C:\\Users\\david\\AppData\\Local\\Temp\\ipykernel_3464\\3934485875.py:6: SyntaxWarning: \"is\" with 'str' literal. Did you mean \"==\"?\n",
      "  if p[i]>=3 and p[i] is \"A\"<F<\"Z\":\n"
     ]
    },
    {
     "ename": "SyntaxError",
     "evalue": "'return' outside function (3934485875.py, line 7)",
     "output_type": "error",
     "traceback": [
      "\u001b[1;36m  Cell \u001b[1;32mIn[24], line 7\u001b[1;36m\u001b[0m\n\u001b[1;33m    return p\u001b[0m\n\u001b[1;37m    ^\u001b[0m\n\u001b[1;31mSyntaxError\u001b[0m\u001b[1;31m:\u001b[0m 'return' outside function\n"
     ]
    }
   ],
   "source": [
    "# validation \n",
    "\n",
    "p=\"ABCD1234\"\n",
    "\n",
    "for i in p:\n",
    "    if p[i]>=3 and p[i] is \"A\"<F<\"Z\":\n",
    "        return p\n",
    "\n",
    "\n",
    "\n",
    "\n",
    "\n"
   ]
  },
  {
   "cell_type": "code",
   "execution_count": null,
   "id": "ecdb9c22-c533-475c-9dd4-e3a17fb31cb2",
   "metadata": {},
   "outputs": [],
   "source": []
  }
 ],
 "metadata": {
  "kernelspec": {
   "display_name": "Python [conda env:base] *",
   "language": "python",
   "name": "conda-base-py"
  },
  "language_info": {
   "codemirror_mode": {
    "name": "ipython",
    "version": 3
   },
   "file_extension": ".py",
   "mimetype": "text/x-python",
   "name": "python",
   "nbconvert_exporter": "python",
   "pygments_lexer": "ipython3",
   "version": "3.13.5"
  }
 },
 "nbformat": 4,
 "nbformat_minor": 5
}
